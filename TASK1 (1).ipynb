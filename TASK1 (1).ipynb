{
 "cells": [
  {
   "cell_type": "markdown",
   "id": "f53e55c0-157f-4008-821b-71f501390be7",
   "metadata": {},
   "source": [
    "# NAME : DEEPASHA MISHRA \n",
    "# TSF GRIP INTERNSHIP TASK 1 \n",
    "# Prediction using Supervised ML"
   ]
  },
  {
   "cell_type": "code",
   "execution_count": 1,
   "id": "a6d59e0c-de30-49d3-ad54-9f9b61292f17",
   "metadata": {},
   "outputs": [],
   "source": [
    "# We begin by importing relevant libraries\n",
    "import pandas as pd\n",
    "import numpy as np\n",
    "import seaborn as sns\n",
    "from matplotlib import pyplot as plt\n",
    "%matplotlib inline\n",
    "from sklearn.cluster import KMeans"
   ]
  },
  {
   "cell_type": "code",
   "execution_count": 2,
   "id": "4cb5f501-3f3f-4f4a-8454-7b43d55c8d69",
   "metadata": {},
   "outputs": [
    {
     "name": "stdout",
     "output_type": "stream",
     "text": [
      "Data is successfully imported\n"
     ]
    },
    {
     "data": {
      "text/html": [
       "<div>\n",
       "<style scoped>\n",
       "    .dataframe tbody tr th:only-of-type {\n",
       "        vertical-align: middle;\n",
       "    }\n",
       "\n",
       "    .dataframe tbody tr th {\n",
       "        vertical-align: top;\n",
       "    }\n",
       "\n",
       "    .dataframe thead th {\n",
       "        text-align: right;\n",
       "    }\n",
       "</style>\n",
       "<table border=\"1\" class=\"dataframe\">\n",
       "  <thead>\n",
       "    <tr style=\"text-align: right;\">\n",
       "      <th></th>\n",
       "      <th>Hours</th>\n",
       "      <th>Scores</th>\n",
       "    </tr>\n",
       "  </thead>\n",
       "  <tbody>\n",
       "    <tr>\n",
       "      <th>0</th>\n",
       "      <td>2.5</td>\n",
       "      <td>21</td>\n",
       "    </tr>\n",
       "    <tr>\n",
       "      <th>1</th>\n",
       "      <td>5.1</td>\n",
       "      <td>47</td>\n",
       "    </tr>\n",
       "    <tr>\n",
       "      <th>2</th>\n",
       "      <td>3.2</td>\n",
       "      <td>27</td>\n",
       "    </tr>\n",
       "    <tr>\n",
       "      <th>3</th>\n",
       "      <td>8.5</td>\n",
       "      <td>75</td>\n",
       "    </tr>\n",
       "    <tr>\n",
       "      <th>4</th>\n",
       "      <td>3.5</td>\n",
       "      <td>30</td>\n",
       "    </tr>\n",
       "    <tr>\n",
       "      <th>5</th>\n",
       "      <td>1.5</td>\n",
       "      <td>20</td>\n",
       "    </tr>\n",
       "    <tr>\n",
       "      <th>6</th>\n",
       "      <td>9.2</td>\n",
       "      <td>88</td>\n",
       "    </tr>\n",
       "    <tr>\n",
       "      <th>7</th>\n",
       "      <td>5.5</td>\n",
       "      <td>60</td>\n",
       "    </tr>\n",
       "    <tr>\n",
       "      <th>8</th>\n",
       "      <td>8.3</td>\n",
       "      <td>81</td>\n",
       "    </tr>\n",
       "    <tr>\n",
       "      <th>9</th>\n",
       "      <td>2.7</td>\n",
       "      <td>25</td>\n",
       "    </tr>\n",
       "    <tr>\n",
       "      <th>10</th>\n",
       "      <td>7.7</td>\n",
       "      <td>85</td>\n",
       "    </tr>\n",
       "    <tr>\n",
       "      <th>11</th>\n",
       "      <td>5.9</td>\n",
       "      <td>62</td>\n",
       "    </tr>\n",
       "    <tr>\n",
       "      <th>12</th>\n",
       "      <td>4.5</td>\n",
       "      <td>41</td>\n",
       "    </tr>\n",
       "    <tr>\n",
       "      <th>13</th>\n",
       "      <td>3.3</td>\n",
       "      <td>42</td>\n",
       "    </tr>\n",
       "    <tr>\n",
       "      <th>14</th>\n",
       "      <td>1.1</td>\n",
       "      <td>17</td>\n",
       "    </tr>\n",
       "    <tr>\n",
       "      <th>15</th>\n",
       "      <td>8.9</td>\n",
       "      <td>95</td>\n",
       "    </tr>\n",
       "    <tr>\n",
       "      <th>16</th>\n",
       "      <td>2.5</td>\n",
       "      <td>30</td>\n",
       "    </tr>\n",
       "    <tr>\n",
       "      <th>17</th>\n",
       "      <td>1.9</td>\n",
       "      <td>24</td>\n",
       "    </tr>\n",
       "    <tr>\n",
       "      <th>18</th>\n",
       "      <td>6.1</td>\n",
       "      <td>67</td>\n",
       "    </tr>\n",
       "    <tr>\n",
       "      <th>19</th>\n",
       "      <td>7.4</td>\n",
       "      <td>69</td>\n",
       "    </tr>\n",
       "    <tr>\n",
       "      <th>20</th>\n",
       "      <td>2.7</td>\n",
       "      <td>30</td>\n",
       "    </tr>\n",
       "    <tr>\n",
       "      <th>21</th>\n",
       "      <td>4.8</td>\n",
       "      <td>54</td>\n",
       "    </tr>\n",
       "    <tr>\n",
       "      <th>22</th>\n",
       "      <td>3.8</td>\n",
       "      <td>35</td>\n",
       "    </tr>\n",
       "    <tr>\n",
       "      <th>23</th>\n",
       "      <td>6.9</td>\n",
       "      <td>76</td>\n",
       "    </tr>\n",
       "    <tr>\n",
       "      <th>24</th>\n",
       "      <td>7.8</td>\n",
       "      <td>86</td>\n",
       "    </tr>\n",
       "  </tbody>\n",
       "</table>\n",
       "</div>"
      ],
      "text/plain": [
       "    Hours  Scores\n",
       "0     2.5      21\n",
       "1     5.1      47\n",
       "2     3.2      27\n",
       "3     8.5      75\n",
       "4     3.5      30\n",
       "5     1.5      20\n",
       "6     9.2      88\n",
       "7     5.5      60\n",
       "8     8.3      81\n",
       "9     2.7      25\n",
       "10    7.7      85\n",
       "11    5.9      62\n",
       "12    4.5      41\n",
       "13    3.3      42\n",
       "14    1.1      17\n",
       "15    8.9      95\n",
       "16    2.5      30\n",
       "17    1.9      24\n",
       "18    6.1      67\n",
       "19    7.4      69\n",
       "20    2.7      30\n",
       "21    4.8      54\n",
       "22    3.8      35\n",
       "23    6.9      76\n",
       "24    7.8      86"
      ]
     },
     "execution_count": 2,
     "metadata": {},
     "output_type": "execute_result"
    }
   ],
   "source": [
    "# Importing the given dataset.\n",
    "path =  \"http://bit.ly/w-data\"\n",
    "Data = pd.read_csv(path)\n",
    "print(\"Data is successfully imported\")\n",
    "Data"
   ]
  },
  {
   "cell_type": "code",
   "execution_count": 6,
   "id": "ee8f15dc-e5e9-4300-83fc-4fa526cf0f28",
   "metadata": {},
   "outputs": [
    {
     "name": "stdout",
     "output_type": "stream",
     "text": [
      "<class 'pandas.core.frame.DataFrame'>\n",
      "RangeIndex: 25 entries, 0 to 24\n",
      "Data columns (total 2 columns):\n",
      " #   Column  Non-Null Count  Dtype  \n",
      "---  ------  --------------  -----  \n",
      " 0   Hours   25 non-null     float64\n",
      " 1   Scores  25 non-null     int64  \n",
      "dtypes: float64(1), int64(1)\n",
      "memory usage: 532.0 bytes\n"
     ]
    },
    {
     "data": {
      "text/html": [
       "<div>\n",
       "<style scoped>\n",
       "    .dataframe tbody tr th:only-of-type {\n",
       "        vertical-align: middle;\n",
       "    }\n",
       "\n",
       "    .dataframe tbody tr th {\n",
       "        vertical-align: top;\n",
       "    }\n",
       "\n",
       "    .dataframe thead th {\n",
       "        text-align: right;\n",
       "    }\n",
       "</style>\n",
       "<table border=\"1\" class=\"dataframe\">\n",
       "  <thead>\n",
       "    <tr style=\"text-align: right;\">\n",
       "      <th></th>\n",
       "      <th>Hours</th>\n",
       "      <th>Scores</th>\n",
       "    </tr>\n",
       "  </thead>\n",
       "  <tbody>\n",
       "    <tr>\n",
       "      <th>count</th>\n",
       "      <td>25.000000</td>\n",
       "      <td>25.000000</td>\n",
       "    </tr>\n",
       "    <tr>\n",
       "      <th>mean</th>\n",
       "      <td>5.012000</td>\n",
       "      <td>51.480000</td>\n",
       "    </tr>\n",
       "    <tr>\n",
       "      <th>std</th>\n",
       "      <td>2.525094</td>\n",
       "      <td>25.286887</td>\n",
       "    </tr>\n",
       "    <tr>\n",
       "      <th>min</th>\n",
       "      <td>1.100000</td>\n",
       "      <td>17.000000</td>\n",
       "    </tr>\n",
       "    <tr>\n",
       "      <th>25%</th>\n",
       "      <td>2.700000</td>\n",
       "      <td>30.000000</td>\n",
       "    </tr>\n",
       "    <tr>\n",
       "      <th>50%</th>\n",
       "      <td>4.800000</td>\n",
       "      <td>47.000000</td>\n",
       "    </tr>\n",
       "    <tr>\n",
       "      <th>75%</th>\n",
       "      <td>7.400000</td>\n",
       "      <td>75.000000</td>\n",
       "    </tr>\n",
       "    <tr>\n",
       "      <th>max</th>\n",
       "      <td>9.200000</td>\n",
       "      <td>95.000000</td>\n",
       "    </tr>\n",
       "  </tbody>\n",
       "</table>\n",
       "</div>"
      ],
      "text/plain": [
       "           Hours     Scores\n",
       "count  25.000000  25.000000\n",
       "mean    5.012000  51.480000\n",
       "std     2.525094  25.286887\n",
       "min     1.100000  17.000000\n",
       "25%     2.700000  30.000000\n",
       "50%     4.800000  47.000000\n",
       "75%     7.400000  75.000000\n",
       "max     9.200000  95.000000"
      ]
     },
     "execution_count": 6,
     "metadata": {},
     "output_type": "execute_result"
    }
   ],
   "source": [
    "# SUMMARY OF THE GIVEN DATASET \n",
    "\n",
    "Data.info()\n",
    "# We see, there are 25 observations, and two columns, namely, hours and scores.\n",
    "\n",
    "Data.describe()\n",
    "# Average scores obtained is 51.48 ; Average number of hours studied is 5.01.\n",
    "# Minimum marks obtained : 17 ; Maximum marks obtained : 95\n",
    "# Minimum hours spent on studying : 1.1 ; Maximum hours spent on studying : 9.2"
   ]
  },
  {
   "cell_type": "code",
   "execution_count": 4,
   "id": "b7455755-6548-4cb0-a506-79c47f6817ba",
   "metadata": {},
   "outputs": [
    {
     "data": {
      "image/png": "[encoded data removed]",
      "text/plain": [
       "<Figure size 640x480 with 1 Axes>"
      ]
     },
     "metadata": {},
     "output_type": "display_data"
    }
   ],
   "source": [
    "# To visually analyse the given dataset and understand the relation between the two variables : hours and scores, we plot a scatter plot between the two variables using Python.\n",
    "Data.plot(x='Hours', y='Scores', style='o')  \n",
    "plt.title('Hours vs Percentage')  \n",
    "plt.xlabel('Hours Studied')  \n",
    "plt.ylabel('Percentage Score')  \n",
    "plt.show()\n",
    "\n",
    "# We can see, there is a positive relation between the number of hours students study, and the percentage of scores the students get. The more they study the more are the scores obtained."
   ]
  },
  {
   "cell_type": "code",
   "execution_count": 43,
   "id": "7417c1df-0e33-484d-bb69-90d964590fc8",
   "metadata": {},
   "outputs": [
    {
     "data": {
      "text/plain": [
       "array([21, 47, 27, 75, 30, 20, 88, 60, 81, 25, 85, 62, 41, 42, 17, 95, 30,\n",
       "       24, 67, 69, 30, 54, 35, 76, 86], dtype=int64)"
      ]
     },
     "execution_count": 43,
     "metadata": {},
     "output_type": "execute_result"
    }
   ],
   "source": [
    "# Now we prepare the dataset as a model for regression\n",
    "\n",
    "X = Data.iloc[:, :-1].values  \n",
    "Y = Data.iloc[:, 1].values  \n",
    "Y\n",
    "# This way we will have our attributes and labels"
   ]
  },
  {
   "cell_type": "code",
   "execution_count": 44,
   "id": "c840b8ef-22cd-471c-99a0-95c66f4418dc",
   "metadata": {},
   "outputs": [
    {
     "name": "stdout",
     "output_type": "stream",
     "text": [
      "Training of algorithm completed.\n"
     ]
    }
   ],
   "source": [
    "# The next step is to split this data into training and test sets. We'll do this by using Scikit-Learn's built-in train_test_split() method:\n",
    "\n",
    "from sklearn.model_selection import train_test_split  \n",
    "X_train, X_test, Y_train, Y_test = train_test_split(X, Y, \n",
    "                            test_size=0.2, random_state=0) \n",
    "\n",
    "# We have split our data into training and testing sets, and now is finally the time to train our algorithm.\n",
    "\n",
    "from sklearn.linear_model import LinearRegression  \n",
    "regressor = LinearRegression()  \n",
    "regressor.fit(X_train, Y_train) \n",
    "\n",
    "print(\"Training of algorithm completed.\")"
   ]
  },
  {
   "cell_type": "code",
   "execution_count": 48,
   "id": "889c318b-c1bc-4c5f-a77b-717b6eb35331",
   "metadata": {},
   "outputs": [
    {
     "name": "stdout",
     "output_type": "stream",
     "text": [
      "\n",
      "B0 = 2.018160041434683 \n",
      "B1 = [9.91065648]\n"
     ]
    }
   ],
   "source": [
    "# COEFFICIENTS OF THE MODEL :\n",
    "\n",
    "#  Let B0 be the Intercept & B1 be the slope of our regression line.\n",
    "print(\"\\nB0 =\",regressor.intercept_,\"\\nB1 =\",regressor.coef_)\n",
    "\n",
    "# We see, intercept of the model is 2.018, at zero hours spent on studying, the scores obtained are at 2.018\n",
    "# Slope of the regression line is 9.9106, implying as there is a 1 hour chage in the time spent on studying, the increase in scores of student is 9.910"
   ]
  },
  {
   "cell_type": "code",
   "execution_count": 49,
   "id": "9aa98cb0-5924-4fd0-82a5-1f7ea897e9e5",
   "metadata": {},
   "outputs": [
    {
     "data": {
      "text/plain": [
       "array([[39.67865467],\n",
       "       [20.84840735],\n",
       "       [79.32128059],\n",
       "       [70.40168976],\n",
       "       [12.91988217],\n",
       "       [52.56250809],\n",
       "       [78.33021494],\n",
       "       [34.72332643],\n",
       "       [84.27660883],\n",
       "       [93.19619966],\n",
       "       [62.47316457],\n",
       "       [36.70545772],\n",
       "       [28.77693254],\n",
       "       [56.52677068],\n",
       "       [28.77693254],\n",
       "       [86.25874013],\n",
       "       [26.79480124],\n",
       "       [49.58931115],\n",
       "       [90.22300272],\n",
       "       [46.6161142 ]])"
      ]
     },
     "execution_count": 49,
     "metadata": {},
     "output_type": "execute_result"
    }
   ],
   "source": [
    "# We are ready to regress the model. Plotting the regression line:\n",
    "\n",
    "Y0 = regressor.intercept_ + regressor.coef_*X_train\n",
    "Y0\n",
    "\n",
    "# This gives us the predictable values of the dependent variable."
   ]
  },
  {
   "cell_type": "code",
   "execution_count": 53,
   "id": "591434bd-4760-45b6-9ac2-70b1bf4de596",
   "metadata": {},
   "outputs": [
    {
     "data": {
      "image/png": "[encoded data removed]",
      "text/plain": [
       "<Figure size 640x480 with 1 Axes>"
      ]
     },
     "metadata": {},
     "output_type": "display_data"
    }
   ],
   "source": [
    "# We plot these values and the regression line using scatter plot as well\n",
    "\n",
    "plt.scatter(X_train,Y_train,color='Blue')\n",
    "plt.plot(X_train,Y0,color='Cyan')\n",
    "plt.xlabel(\"Hours spent on studying\",fontsize=15)\n",
    "plt.ylabel(\"Scores obtained\",fontsize=15)\n",
    "plt.title(\"Regression line(Train set)\",fontsize=10)\n",
    "plt.show()"
   ]
  },
  {
   "cell_type": "code",
   "execution_count": 26,
   "id": "c1d2bdf5-9815-44af-8ae3-55906f467251",
   "metadata": {},
   "outputs": [
    {
     "name": "stdout",
     "output_type": "stream",
     "text": [
      "[[1.5]\n",
      " [3.2]\n",
      " [7.4]\n",
      " [2.5]\n",
      " [5.9]]\n"
     ]
    }
   ],
   "source": [
    "# PREDICTION OF INDEPENDENT VARIABLE (hours)\n",
    "print(X_test)"
   ]
  },
  {
   "cell_type": "code",
   "execution_count": 54,
   "id": "617ee367-3c4d-481b-8a02-da55c5f4f73b",
   "metadata": {},
   "outputs": [
    {
     "data": {
      "text/plain": [
       "array([16.88414476, 33.73226078, 75.357018  , 26.79480124, 60.49103328])"
      ]
     },
     "execution_count": 54,
     "metadata": {},
     "output_type": "execute_result"
    }
   ],
   "source": [
    "# PREDICTION OF DEPENDENT VARIABLE (scores)\n",
    "Y_pred = regressor.predict(X_test)\n",
    "Y_pred\n",
    "\n",
    "# The predicted values will give us a better picture of the relation between the two variables."
   ]
  },
  {
   "cell_type": "code",
   "execution_count": 55,
   "id": "139e130f-3935-42de-ab67-b2c401e696f9",
   "metadata": {},
   "outputs": [
    {
     "name": "stdout",
     "output_type": "stream",
     "text": [
      "The residual set for the regression model is [ 3.11585524 -6.73226078 -6.357018    3.20519876  1.50896672]\n"
     ]
    }
   ],
   "source": [
    "# PREDICTING THE ERROR/RESIDUAL VALUES IN THE MODEL\n",
    "# We can compare the prdicted with the actual to see how much is the error/residual present while we run the regression. This residual explains the change in the dependent variable that is not explained by the variables in the model.\n",
    "\n",
    "df = pd.DataFrame({'Actual': Y_test, 'Predicted': Y_pred})  \n",
    "df \n",
    "print(f'The residual set for the regression model is {Y_test-Y_pred}')"
   ]
  },
  {
   "cell_type": "code",
   "execution_count": 56,
   "id": "62ebb1e5-abde-4a0d-a455-509262e11ae4",
   "metadata": {},
   "outputs": [
    {
     "data": {
      "text/plain": [
       "0.9454906892105356"
      ]
     },
     "execution_count": 56,
     "metadata": {},
     "output_type": "execute_result"
    }
   ],
   "source": [
    "# We can also check for accuracy of the model, using the Goodness of fit value of R square value. R square indicates the percentage of change in the independent vairable is expalined by the dependent variable\n",
    "from sklearn import metrics\n",
    "metrics.r2_score(Y_test,Y_pred)\n",
    "\n",
    "# R square  = 94.54% implies 94.54% change in Y can be explained by the X variable, that is hours spent."
   ]
  },
  {
   "cell_type": "code",
   "execution_count": 58,
   "id": "ca8f19d7-6827-477a-8875-38d921801357",
   "metadata": {},
   "outputs": [
    {
     "name": "stdout",
     "output_type": "stream",
     "text": [
      "According to the model, predicted score for a student studying 9.25 hours will be [93.69173249]\n"
     ]
    }
   ],
   "source": [
    "# QUESTION : WHAT WILL BE THE PREDICTED SCORE IF THE STUDENT STUDIES FOR 9.25 HOURS/DAY?\n",
    "\n",
    "Prediction_score = regressor.predict([[9.25]])\n",
    "print(\"According to the model, predicted score for a student studying 9.25 hours will be\",Prediction_score)\n",
    "\n",
    "# We see, the predicted score for a student studying 9.25 hours will be 93.691."
   ]
  }
 ],
 "metadata": {
  "kernelspec": {
   "display_name": "Python 3 (ipykernel)",
   "language": "python",
   "name": "python3"
  },
  "language_info": {
   "codemirror_mode": {
    "name": "ipython",
    "version": 3
   },
   "file_extension": ".py",
   "mimetype": "text/x-python",
   "name": "python",
   "nbconvert_exporter": "python",
   "pygments_lexer": "ipython3",
   "version": "3.11.7"
  }
 },
 "nbformat": 4,
 "nbformat_minor": 5
}
